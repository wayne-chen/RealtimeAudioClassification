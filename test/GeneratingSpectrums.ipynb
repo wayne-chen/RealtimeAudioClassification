{
 "cells": [
  {
   "cell_type": "markdown",
   "metadata": {},
   "source": [
    "The following cell loads in all the libraries that we previously installed; this makes it so that we can access the functions in these libraries instead of having to code these capabilities from scratch."
   ]
  },
  {
   "cell_type": "code",
   "execution_count": 9,
   "metadata": {},
   "outputs": [],
   "source": [
    "import csv\n",
    "import cv2\n",
    "import numpy as np\n",
    "import librosa\n",
    "import librosa.display\n",
    "import wave\n",
    "import os\n",
    "import matplotlib.pyplot as plt\n",
    "import multiprocessing \n",
    "import pickle"
   ]
  },
  {
   "cell_type": "markdown",
   "metadata": {},
   "source": [
    "The next cell defines the folder paths to both the source folder where the audio is stored and the folder where the generated images should go."
   ]
  },
  {
   "cell_type": "code",
   "execution_count": 10,
   "metadata": {},
   "outputs": [],
   "source": [
    "SOURCE_FOLDER_TRAIN= '../AudioData/separatingSimilarSounds/'\n",
    "OUTPUT_FOLDER_TRAIN = '../GeneratedData/separatingSimilarSounds/'"
   ]
  },
  {
   "cell_type": "markdown",
   "metadata": {},
   "source": [
    "The following cell defines the filename where the Spectrum Variables should be read from. This will load in a file that tells this script how to compute the spectrogram."
   ]
  },
  {
   "cell_type": "code",
   "execution_count": 11,
   "metadata": {},
   "outputs": [
    {
     "name": "stdout",
     "output_type": "stream",
     "text": [
      "Please type filename without the file ending here => Standard\n"
     ]
    },
    {
     "data": {
      "text/plain": [
       "{'RESOLUTION': 224,\n",
       " 'SAMPLE_RATE': 48000,\n",
       " 'N_FFT': 3000,\n",
       " 'HOP_LENGTH': 512,\n",
       " 'FMIN': 0,\n",
       " 'FMAX': 24000,\n",
       " 'N_MELS': 224,\n",
       " 'POWER': 2.1}"
      ]
     },
     "execution_count": 11,
     "metadata": {},
     "output_type": "execute_result"
    }
   ],
   "source": [
    "#Loading in the Spectrogram variables\n",
    "FileName =input(\"Please type filename without the file ending here => \")\n",
    "SpectrumVariables = pickle.load(open( FileName+'.SpecVar', \"rb\" ) )\n",
    "SpectrumVariables"
   ]
  },
  {
   "cell_type": "markdown",
   "metadata": {},
   "source": [
    "This defines the function that creates logarithmic spectragrams of the audio file designated in the `src_path` into the folder in the `dst_path`."
   ]
  },
  {
   "cell_type": "code",
   "execution_count": 12,
   "metadata": {},
   "outputs": [],
   "source": [
    "def log_mel_spec_tfm(src_path, dst_path):\n",
    "    #print(src_path)\n",
    "    fname=src_path.split('/')[-1];\n",
    "    x=[]\n",
    "    sample_rate=0\n",
    "    try:\n",
    "        channels ,sample_rate_in = librosa.load(src_path,mono=False)\n",
    "    except:\n",
    "        print(fname+\" Could not be computed!\")\n",
    "        return\n",
    "    if(channels.ndim==1):\n",
    "        channels= channels.reshape((1,(len(channels))))\n",
    "    channelcounter=0\n",
    "    for audio_data in channels:\n",
    "        channelcounter+=1\n",
    "        \n",
    "        RESOLUTION=SpectrumVariables[\"RESOLUTION\"] \n",
    "        \n",
    "        N_FFT=SpectrumVariables[\"N_FFT\"]\n",
    "        HOP_LENGTH= SpectrumVariables[\"HOP_LENGTH\"]\n",
    "        FMIN=SpectrumVariables[\"FMIN\"]\n",
    "        FMAX=SpectrumVariables[\"FMAX\"]\n",
    "        N_MELS=SpectrumVariables[\"N_MELS\"]\n",
    "        POWER=SpectrumVariables[\"POWER\"]\n",
    "        #audio_data = librosa.resample(x, sample_rate_in, SAMPLE_RATE)\n",
    "        mel_spec_power = librosa.feature.melspectrogram(audio_data, sr=sample_rate_in, n_fft=N_FFT, \n",
    "                                                        hop_length=HOP_LENGTH, \n",
    "                                                        n_mels=N_MELS, power=POWER,\n",
    "                                                       fmin=FMIN,fmax=FMAX)\n",
    "        mel_spec_db = librosa.power_to_db(mel_spec_power, ref=np.max)\n",
    "        image = mel_spec_db; # convert to float\n",
    "        image -= image.min() # ensure the minimal value is 0.0\n",
    "        image /= image.max() # maximum value in image is now 1.0\n",
    "        image*=256;\n",
    "        img = image.astype(np.uint8)\n",
    "        colorPic = cv2.applyColorMap(img, cv2.COLORMAP_BONE)\n",
    "        #cv2.imshow('dst_rt', colorPic)\n",
    "        #cv2.waitKey(0)\n",
    "        count=0\n",
    "        for i in range(int(np.floor(colorPic.shape[1]/RESOLUTION))):\n",
    "            count+=1\n",
    "            startx=RESOLUTION*i\n",
    "            stopx=RESOLUTION*(i+1)\n",
    "            OutputImage = cv2.resize(colorPic[:,startx:stopx,:],(RESOLUTION,RESOLUTION))\n",
    "            plt.imsave(os.path.join(dst_path,(fname.replace(\".wav\",'-').replace(\".m4a\",'-').replace(\".mp3\",'-') +str(i)+'-ch-'+str(channelcounter)+ '.png')), OutputImage) \n",
    "        if(count==0):\n",
    "            print(src_path)\n",
    "            # cull this file\n",
    "            #print(\"WARNING: => Jumped A file. If you see this often, increas sampleRate or Hop length.\")"
   ]
  },
  {
   "cell_type": "markdown",
   "metadata": {},
   "source": [
    "The following folder is a wrapper function for the previous function, going through all the audio files in `IN_FOLDER`."
   ]
  },
  {
   "cell_type": "code",
   "execution_count": 13,
   "metadata": {},
   "outputs": [],
   "source": [
    "def ComputeSpectrograms(IN_FOLDER,OUT_FOLDER):\n",
    "    print(\"I will print the file path to files that are too short to fit into one full picture.\")\n",
    "    SourceFoldersLabels = [f.path for f in os.scandir(IN_FOLDER) if f.is_dir()]\n",
    "    for path in SourceFoldersLabels:\n",
    "        FileList = [f.path for f in os.scandir(path) if f.is_file() and (f.name.endswith(\".wav\") or f.name.endswith(\".m4a\") or f.name.endswith(\".mp3\"))]\n",
    "        Label = path.split('/')[-1]\n",
    "        outFolder = os.path.join(OUT_FOLDER,Label)\n",
    "        if not os.path.exists(outFolder):\n",
    "            os.makedirs(outFolder)\n",
    "        with multiprocessing.Pool(12) as p:\n",
    "            p.starmap(log_mel_spec_tfm, [(f,outFolder) for f in FileList])\n",
    "        print(\"Finished this class. Going to the next\")\n",
    "    print(\"Done generating spectra!\")  "
   ]
  },
  {
   "cell_type": "markdown",
   "metadata": {},
   "source": [
    "This moves the Spectrum Variables file into the output folder so that we can correspond the images with labels."
   ]
  },
  {
   "cell_type": "code",
   "execution_count": 14,
   "metadata": {},
   "outputs": [
    {
     "name": "stdout",
     "output_type": "stream",
     "text": [
      "I will print the file path to files that are too short to fit into one full picture.\n"
     ]
    },
    {
     "name": "stderr",
     "output_type": "stream",
     "text": [
      "/usr/local/lib/python3.7/site-packages/librosa/filters.py:221: UserWarning: Empty filters detected in mel frequency basis. Some channels will produce empty responses. Try increasing your sampling rate (and fmax) or reducing n_mels.\n",
      "  warnings.warn('Empty filters detected in mel frequency basis. '\n",
      "/usr/local/lib/python3.7/site-packages/librosa/filters.py:221: UserWarning: Empty filters detected in mel frequency basis. Some channels will produce empty responses. Try increasing your sampling rate (and fmax) or reducing n_mels.\n",
      "  warnings.warn('Empty filters detected in mel frequency basis. '\n",
      "/usr/local/lib/python3.7/site-packages/librosa/filters.py:221: UserWarning: Empty filters detected in mel frequency basis. Some channels will produce empty responses. Try increasing your sampling rate (and fmax) or reducing n_mels.\n",
      "  warnings.warn('Empty filters detected in mel frequency basis. '\n",
      "/usr/local/lib/python3.7/site-packages/librosa/filters.py:221: UserWarning: Empty filters detected in mel frequency basis. Some channels will produce empty responses. Try increasing your sampling rate (and fmax) or reducing n_mels.\n",
      "  warnings.warn('Empty filters detected in mel frequency basis. '\n",
      "/usr/local/lib/python3.7/site-packages/librosa/filters.py:221: UserWarning: Empty filters detected in mel frequency basis. Some channels will produce empty responses. Try increasing your sampling rate (and fmax) or reducing n_mels.\n",
      "  warnings.warn('Empty filters detected in mel frequency basis. '\n"
     ]
    },
    {
     "name": "stdout",
     "output_type": "stream",
     "text": [
      "../AudioData/separatingSimilarSounds/clock_tick/5-212181-A-38.wav\n",
      "../AudioData/separatingSimilarSounds/clock_tick/2-140147-A-38.wav\n",
      "../AudioData/separatingSimilarSounds/clock_tick/4-175945-A-38.wav\n"
     ]
    },
    {
     "name": "stderr",
     "output_type": "stream",
     "text": [
      "/usr/local/lib/python3.7/site-packages/librosa/filters.py:221: UserWarning: Empty filters detected in mel frequency basis. Some channels will produce empty responses. Try increasing your sampling rate (and fmax) or reducing n_mels.\n",
      "  warnings.warn('Empty filters detected in mel frequency basis. '\n"
     ]
    },
    {
     "name": "stdout",
     "output_type": "stream",
     "text": [
      "../AudioData/separatingSimilarSounds/clock_tick/4-181865-A-38.wav\n",
      "../AudioData/separatingSimilarSounds/clock_tick/1-48413-A-38.wav\n"
     ]
    },
    {
     "name": "stderr",
     "output_type": "stream",
     "text": [
      "/usr/local/lib/python3.7/site-packages/librosa/filters.py:221: UserWarning: Empty filters detected in mel frequency basis. Some channels will produce empty responses. Try increasing your sampling rate (and fmax) or reducing n_mels.\n",
      "  warnings.warn('Empty filters detected in mel frequency basis. '\n",
      "/usr/local/lib/python3.7/site-packages/librosa/filters.py:221: UserWarning: Empty filters detected in mel frequency basis. Some channels will produce empty responses. Try increasing your sampling rate (and fmax) or reducing n_mels.\n",
      "  warnings.warn('Empty filters detected in mel frequency basis. '\n",
      "/usr/local/lib/python3.7/site-packages/librosa/filters.py:221: UserWarning: Empty filters detected in mel frequency basis. Some channels will produce empty responses. Try increasing your sampling rate (and fmax) or reducing n_mels.\n",
      "  warnings.warn('Empty filters detected in mel frequency basis. '\n",
      "/usr/local/lib/python3.7/site-packages/librosa/filters.py:221: UserWarning: Empty filters detected in mel frequency basis. Some channels will produce empty responses. Try increasing your sampling rate (and fmax) or reducing n_mels.\n",
      "  warnings.warn('Empty filters detected in mel frequency basis. '\n",
      "/usr/local/lib/python3.7/site-packages/librosa/filters.py:221: UserWarning: Empty filters detected in mel frequency basis. Some channels will produce empty responses. Try increasing your sampling rate (and fmax) or reducing n_mels.\n",
      "  warnings.warn('Empty filters detected in mel frequency basis. '\n",
      "/usr/local/lib/python3.7/site-packages/librosa/filters.py:221: UserWarning: Empty filters detected in mel frequency basis. Some channels will produce empty responses. Try increasing your sampling rate (and fmax) or reducing n_mels.\n",
      "  warnings.warn('Empty filters detected in mel frequency basis. '\n"
     ]
    },
    {
     "name": "stdout",
     "output_type": "stream",
     "text": [
      "../AudioData/separatingSimilarSounds/clock_tick/5-209698-A-38.wav\n",
      "../AudioData/separatingSimilarSounds/clock_tick/2-88724-A-38.wav\n",
      "../AudioData/separatingSimilarSounds/clock_tick/3-170383-A-38.wav\n",
      "../AudioData/separatingSimilarSounds/clock_tick/3-150363-A-38.wav\n",
      "../AudioData/separatingSimilarSounds/clock_tick/5-219342-A-38.wav\n",
      "../AudioData/separatingSimilarSounds/clock_tick/2-135728-A-38.wav\n",
      "../AudioData/separatingSimilarSounds/clock_tick/3-170377-A-38.wav\n",
      "../AudioData/separatingSimilarSounds/clock_tick/4-179984-A-38.wav\n",
      "../AudioData/separatingSimilarSounds/clock_tick/2-127108-A-38.wav\n",
      "../AudioData/separatingSimilarSounds/clock_tick/2-131943-A-38.wav\n",
      "../AudioData/separatingSimilarSounds/clock_tick/1-57163-A-38.wav\n",
      "../AudioData/separatingSimilarSounds/clock_tick/1-62850-A-38.wav\n",
      "../AudioData/separatingSimilarSounds/clock_tick/2-134700-A-38.wav\n",
      "../AudioData/separatingSimilarSounds/clock_tick/4-188033-A-38.wav\n",
      "../AudioData/separatingSimilarSounds/clock_tick/1-21935-A-38.wav\n",
      "../AudioData/separatingSimilarSounds/clock_tick/1-21934-A-38.wav\n",
      "../AudioData/separatingSimilarSounds/clock_tick/1-42139-A-38.wav\n",
      "../AudioData/separatingSimilarSounds/clock_tick/1-62849-A-38.wav\n",
      "../AudioData/separatingSimilarSounds/clock_tick/4-198965-A-38.wav\n",
      "../AudioData/separatingSimilarSounds/clock_tick/3-143933-A-38.wav\n",
      "../AudioData/separatingSimilarSounds/clock_tick/5-208624-A-38.wav\n",
      "../AudioData/separatingSimilarSounds/clock_tick/3-171012-A-38.wav\n",
      "../AudioData/separatingSimilarSounds/clock_tick/3-142593-A-38.wav\n",
      "../AudioData/separatingSimilarSounds/clock_tick/4-194711-A-38.wav\n",
      "../AudioData/separatingSimilarSounds/clock_tick/2-119748-A-38.wav\n",
      "../AudioData/separatingSimilarSounds/clock_tick/5-235671-A-38.wav\n",
      "../AudioData/separatingSimilarSounds/clock_tick/3-164688-A-38.wav\n",
      "../AudioData/separatingSimilarSounds/clock_tick/4-191327-A-38.wav\n",
      "../AudioData/separatingSimilarSounds/clock_tick/5-209833-A-38.wav\n",
      "../AudioData/separatingSimilarSounds/clock_tick/1-35687-A-38.wav\n",
      "../AudioData/separatingSimilarSounds/clock_tick/3-171041-A-38.wav\n",
      "../AudioData/separatingSimilarSounds/clock_tick/5-201194-A-38.wav\n",
      "../AudioData/separatingSimilarSounds/clock_tick/5-210571-A-38.wav\n",
      "../AudioData/separatingSimilarSounds/clock_tick/2-141584-A-38.wav\n",
      "../AudioData/separatingSimilarSounds/clock_tick/4-181035-A-38.wav\n",
      "Finished this class. Going to the next\n"
     ]
    },
    {
     "name": "stderr",
     "output_type": "stream",
     "text": [
      "/usr/local/lib/python3.7/site-packages/librosa/filters.py:221: UserWarning: Empty filters detected in mel frequency basis. Some channels will produce empty responses. Try increasing your sampling rate (and fmax) or reducing n_mels.\n",
      "  warnings.warn('Empty filters detected in mel frequency basis. '\n",
      "/usr/local/lib/python3.7/site-packages/librosa/filters.py:221: UserWarning: Empty filters detected in mel frequency basis. Some channels will produce empty responses. Try increasing your sampling rate (and fmax) or reducing n_mels.\n",
      "  warnings.warn('Empty filters detected in mel frequency basis. '\n",
      "/usr/local/lib/python3.7/site-packages/librosa/filters.py:221: UserWarning: Empty filters detected in mel frequency basis. Some channels will produce empty responses. Try increasing your sampling rate (and fmax) or reducing n_mels.\n",
      "  warnings.warn('Empty filters detected in mel frequency basis. '\n",
      "/usr/local/lib/python3.7/site-packages/librosa/filters.py:221: UserWarning: Empty filters detected in mel frequency basis. Some channels will produce empty responses. Try increasing your sampling rate (and fmax) or reducing n_mels.\n",
      "  warnings.warn('Empty filters detected in mel frequency basis. '\n",
      "/usr/local/lib/python3.7/site-packages/librosa/filters.py:221: UserWarning: Empty filters detected in mel frequency basis. Some channels will produce empty responses. Try increasing your sampling rate (and fmax) or reducing n_mels.\n",
      "  warnings.warn('Empty filters detected in mel frequency basis. '\n",
      "/usr/local/lib/python3.7/site-packages/librosa/filters.py:221: UserWarning: Empty filters detected in mel frequency basis. Some channels will produce empty responses. Try increasing your sampling rate (and fmax) or reducing n_mels.\n",
      "  warnings.warn('Empty filters detected in mel frequency basis. '\n",
      "/usr/local/lib/python3.7/site-packages/librosa/filters.py:221: UserWarning: Empty filters detected in mel frequency basis. Some channels will produce empty responses. Try increasing your sampling rate (and fmax) or reducing n_mels.\n",
      "  warnings.warn('Empty filters detected in mel frequency basis. '\n",
      "/usr/local/lib/python3.7/site-packages/librosa/filters.py:221: UserWarning: Empty filters detected in mel frequency basis. Some channels will produce empty responses. Try increasing your sampling rate (and fmax) or reducing n_mels.\n",
      "  warnings.warn('Empty filters detected in mel frequency basis. '\n",
      "/usr/local/lib/python3.7/site-packages/librosa/filters.py:221: UserWarning: Empty filters detected in mel frequency basis. Some channels will produce empty responses. Try increasing your sampling rate (and fmax) or reducing n_mels.\n",
      "  warnings.warn('Empty filters detected in mel frequency basis. '\n",
      "/usr/local/lib/python3.7/site-packages/librosa/filters.py:221: UserWarning: Empty filters detected in mel frequency basis. Some channels will produce empty responses. Try increasing your sampling rate (and fmax) or reducing n_mels.\n",
      "  warnings.warn('Empty filters detected in mel frequency basis. '\n",
      "/usr/local/lib/python3.7/site-packages/librosa/filters.py:221: UserWarning: Empty filters detected in mel frequency basis. Some channels will produce empty responses. Try increasing your sampling rate (and fmax) or reducing n_mels.\n",
      "  warnings.warn('Empty filters detected in mel frequency basis. '\n",
      "/usr/local/lib/python3.7/site-packages/librosa/filters.py:221: UserWarning: Empty filters detected in mel frequency basis. Some channels will produce empty responses. Try increasing your sampling rate (and fmax) or reducing n_mels.\n",
      "  warnings.warn('Empty filters detected in mel frequency basis. '\n"
     ]
    },
    {
     "name": "stdout",
     "output_type": "stream",
     "text": [
      "../AudioData/separatingSimilarSounds/mouse_click/5-223317-A-31.wav\n",
      "../AudioData/separatingSimilarSounds/mouse_click/2-152895-A-31.wav\n",
      "../AudioData/separatingSimilarSounds/mouse_click/3-170312-A-31.wav\n",
      "../AudioData/separatingSimilarSounds/mouse_click/5-233019-A-31.wav\n",
      "../AudioData/separatingSimilarSounds/mouse_click/5-244651-A-31.wav\n",
      "../AudioData/separatingSimilarSounds/mouse_click/4-204683-A-31.wav\n",
      "../AudioData/separatingSimilarSounds/mouse_click/3-167096-A-31.wav\n",
      "../AudioData/separatingSimilarSounds/mouse_click/2-146877-B-31.wav\n",
      "../AudioData/separatingSimilarSounds/mouse_click/5-237315-A-31.wav\n",
      "../AudioData/separatingSimilarSounds/mouse_click/2-152964-A-31.wav\n",
      "../AudioData/separatingSimilarSounds/mouse_click/3-155556-A-31.wav\n",
      "../AudioData/separatingSimilarSounds/mouse_click/4-210309-A-31.wav\n",
      "../AudioData/separatingSimilarSounds/mouse_click/1-81851-A-31.wav\n",
      "../AudioData/separatingSimilarSounds/mouse_click/3-172179-A-31.wav\n",
      "../AudioData/separatingSimilarSounds/mouse_click/1-118206-A-31.wav\n",
      "../AudioData/separatingSimilarSounds/mouse_click/3-185313-A-31.wav\n",
      "../AudioData/separatingSimilarSounds/mouse_click/4-201300-A-31.wav\n",
      "../AudioData/separatingSimilarSounds/mouse_click/4-204612-A-31.wav\n",
      "../AudioData/separatingSimilarSounds/mouse_click/5-238926-A-31.wav\n",
      "../AudioData/separatingSimilarSounds/mouse_click/2-119139-A-31.wav\n",
      "../AudioData/separatingSimilarSounds/mouse_click/2-153388-A-31.wav\n",
      "../AudioData/separatingSimilarSounds/mouse_click/5-219318-A-31.wav\n",
      "../AudioData/separatingSimilarSounds/mouse_click/1-85123-A-31.wav\n",
      "../AudioData/separatingSimilarSounds/mouse_click/3-158056-B-31.wav\n",
      "../AudioData/separatingSimilarSounds/mouse_click/1-95563-A-31.wav\n",
      "../AudioData/separatingSimilarSounds/mouse_click/2-154688-A-31.wav\n",
      "../AudioData/separatingSimilarSounds/mouse_click/5-232802-A-31.wav\n",
      "../AudioData/separatingSimilarSounds/mouse_click/4-195305-A-31.wav\n",
      "../AudioData/separatingSimilarSounds/mouse_click/4-201800-A-31.wav\n",
      "../AudioData/separatingSimilarSounds/mouse_click/1-97793-A-31.wav\n",
      "../AudioData/separatingSimilarSounds/mouse_click/4-202298-A-31.wav\n",
      "../AudioData/separatingSimilarSounds/mouse_click/5-223103-A-31.wav\n",
      "../AudioData/separatingSimilarSounds/mouse_click/1-45645-A-31.wav\n",
      "../AudioData/separatingSimilarSounds/mouse_click/1-99958-A-31.wav\n",
      "../AudioData/separatingSimilarSounds/mouse_click/3-158056-A-31.wav\n",
      "../AudioData/separatingSimilarSounds/mouse_click/2-146877-A-31.wav\n",
      "../AudioData/separatingSimilarSounds/mouse_click/4-192068-A-31.wav\n",
      "../AudioData/separatingSimilarSounds/mouse_click/3-170851-A-31.wav\n",
      "../AudioData/separatingSimilarSounds/mouse_click/2-138257-A-31.wav\n",
      "../AudioData/separatingSimilarSounds/mouse_click/1-18655-A-31.wav\n",
      "Finished this class. Going to the next\n"
     ]
    },
    {
     "name": "stderr",
     "output_type": "stream",
     "text": [
      "/usr/local/lib/python3.7/site-packages/librosa/filters.py:221: UserWarning: Empty filters detected in mel frequency basis. Some channels will produce empty responses. Try increasing your sampling rate (and fmax) or reducing n_mels.\n",
      "  warnings.warn('Empty filters detected in mel frequency basis. '\n",
      "/usr/local/lib/python3.7/site-packages/librosa/filters.py:221: UserWarning: Empty filters detected in mel frequency basis. Some channels will produce empty responses. Try increasing your sampling rate (and fmax) or reducing n_mels.\n",
      "  warnings.warn('Empty filters detected in mel frequency basis. '\n",
      "/usr/local/lib/python3.7/site-packages/librosa/filters.py:221: UserWarning: Empty filters detected in mel frequency basis. Some channels will produce empty responses. Try increasing your sampling rate (and fmax) or reducing n_mels.\n",
      "  warnings.warn('Empty filters detected in mel frequency basis. '\n",
      "/usr/local/lib/python3.7/site-packages/librosa/filters.py:221: UserWarning: Empty filters detected in mel frequency basis. Some channels will produce empty responses. Try increasing your sampling rate (and fmax) or reducing n_mels.\n",
      "  warnings.warn('Empty filters detected in mel frequency basis. '\n",
      "/usr/local/lib/python3.7/site-packages/librosa/filters.py:221: UserWarning: Empty filters detected in mel frequency basis. Some channels will produce empty responses. Try increasing your sampling rate (and fmax) or reducing n_mels.\n",
      "  warnings.warn('Empty filters detected in mel frequency basis. '\n",
      "/usr/local/lib/python3.7/site-packages/librosa/filters.py:221: UserWarning: Empty filters detected in mel frequency basis. Some channels will produce empty responses. Try increasing your sampling rate (and fmax) or reducing n_mels.\n",
      "  warnings.warn('Empty filters detected in mel frequency basis. '\n",
      "/usr/local/lib/python3.7/site-packages/librosa/filters.py:221: UserWarning: Empty filters detected in mel frequency basis. Some channels will produce empty responses. Try increasing your sampling rate (and fmax) or reducing n_mels.\n",
      "  warnings.warn('Empty filters detected in mel frequency basis. '\n",
      "/usr/local/lib/python3.7/site-packages/librosa/filters.py:221: UserWarning: Empty filters detected in mel frequency basis. Some channels will produce empty responses. Try increasing your sampling rate (and fmax) or reducing n_mels.\n",
      "  warnings.warn('Empty filters detected in mel frequency basis. '\n",
      "/usr/local/lib/python3.7/site-packages/librosa/filters.py:221: UserWarning: Empty filters detected in mel frequency basis. Some channels will produce empty responses. Try increasing your sampling rate (and fmax) or reducing n_mels.\n",
      "  warnings.warn('Empty filters detected in mel frequency basis. '\n",
      "/usr/local/lib/python3.7/site-packages/librosa/filters.py:221: UserWarning: Empty filters detected in mel frequency basis. Some channels will produce empty responses. Try increasing your sampling rate (and fmax) or reducing n_mels.\n",
      "  warnings.warn('Empty filters detected in mel frequency basis. '\n"
     ]
    },
    {
     "name": "stdout",
     "output_type": "stream",
     "text": [
      "../AudioData/separatingSimilarSounds/crackling_fire/2-18766-B-12.wav\n"
     ]
    },
    {
     "name": "stderr",
     "output_type": "stream",
     "text": [
      "/usr/local/lib/python3.7/site-packages/librosa/filters.py:221: UserWarning: Empty filters detected in mel frequency basis. Some channels will produce empty responses. Try increasing your sampling rate (and fmax) or reducing n_mels.\n",
      "  warnings.warn('Empty filters detected in mel frequency basis. '\n",
      "/usr/local/lib/python3.7/site-packages/librosa/filters.py:221: UserWarning: Empty filters detected in mel frequency basis. Some channels will produce empty responses. Try increasing your sampling rate (and fmax) or reducing n_mels.\n",
      "  warnings.warn('Empty filters detected in mel frequency basis. '\n"
     ]
    },
    {
     "name": "stdout",
     "output_type": "stream",
     "text": [
      "../AudioData/separatingSimilarSounds/crackling_fire/5-215658-A-12.wav\n",
      "../AudioData/separatingSimilarSounds/crackling_fire/5-213802-A-12.wav\n",
      "../AudioData/separatingSimilarSounds/crackling_fire/4-170247-A-12.wav\n",
      "../AudioData/separatingSimilarSounds/crackling_fire/3-158476-A-12.wav\n",
      "../AudioData/separatingSimilarSounds/crackling_fire/2-28314-A-12.wav\n",
      "../AudioData/separatingSimilarSounds/crackling_fire/2-61311-A-12.wav\n",
      "../AudioData/separatingSimilarSounds/crackling_fire/4-171207-A-12.wav\n",
      "../AudioData/separatingSimilarSounds/crackling_fire/1-17808-A-12.wav\n",
      "../AudioData/separatingSimilarSounds/crackling_fire/4-164661-B-12.wav\n",
      "../AudioData/separatingSimilarSounds/crackling_fire/5-193473-A-12.wav\n",
      "../AudioData/separatingSimilarSounds/crackling_fire/2-30322-A-12.wav\n",
      "../AudioData/separatingSimilarSounds/crackling_fire/1-46272-A-12.wav\n",
      "../AudioData/separatingSimilarSounds/crackling_fire/5-193473-B-12.wav\n",
      "../AudioData/separatingSimilarSounds/crackling_fire/3-65748-A-12.wav\n",
      "../AudioData/separatingSimilarSounds/crackling_fire/3-147965-A-12.wav\n",
      "../AudioData/separatingSimilarSounds/crackling_fire/4-181563-A-12.wav\n",
      "../AudioData/separatingSimilarSounds/crackling_fire/1-7057-A-12.wav\n",
      "../AudioData/separatingSimilarSounds/crackling_fire/4-164661-A-12.wav\n",
      "../AudioData/separatingSimilarSounds/crackling_fire/5-215658-B-12.wav\n",
      "../AudioData/separatingSimilarSounds/crackling_fire/2-28314-B-12.wav\n",
      "../AudioData/separatingSimilarSounds/crackling_fire/5-189212-A-12.wav\n",
      "../AudioData/separatingSimilarSounds/crackling_fire/2-65747-A-12.wav\n",
      "../AudioData/separatingSimilarSounds/crackling_fire/1-17565-A-12.wav\n",
      "../AudioData/separatingSimilarSounds/crackling_fire/3-120644-A-12.wav\n",
      "../AudioData/separatingSimilarSounds/crackling_fire/5-186924-A-12.wav\n",
      "../AudioData/separatingSimilarSounds/crackling_fire/1-4211-A-12.wav\n",
      "../AudioData/separatingSimilarSounds/crackling_fire/3-104958-A-12.wav\n",
      "../AudioData/separatingSimilarSounds/crackling_fire/2-18766-A-12.wav\n",
      "../AudioData/separatingSimilarSounds/crackling_fire/2-30322-B-12.wav\n",
      "../AudioData/separatingSimilarSounds/crackling_fire/1-17808-B-12.wav\n",
      "../AudioData/separatingSimilarSounds/crackling_fire/3-157187-A-12.wav\n",
      "../AudioData/separatingSimilarSounds/crackling_fire/3-145774-A-12.wav\n",
      "../AudioData/separatingSimilarSounds/crackling_fire/3-104632-A-12.wav\n",
      "../AudioData/separatingSimilarSounds/crackling_fire/5-189237-A-12.wav\n",
      "../AudioData/separatingSimilarSounds/crackling_fire/1-17150-A-12.wav\n",
      "../AudioData/separatingSimilarSounds/crackling_fire/4-182369-A-12.wav\n",
      "../AudioData/separatingSimilarSounds/crackling_fire/4-170247-B-12.wav\n",
      "../AudioData/separatingSimilarSounds/crackling_fire/1-17742-A-12.wav\n",
      "../AudioData/separatingSimilarSounds/crackling_fire/4-182368-A-12.wav\n",
      "Finished this class. Going to the next\n"
     ]
    },
    {
     "name": "stderr",
     "output_type": "stream",
     "text": [
      "/usr/local/lib/python3.7/site-packages/librosa/filters.py:221: UserWarning: Empty filters detected in mel frequency basis. Some channels will produce empty responses. Try increasing your sampling rate (and fmax) or reducing n_mels.\n",
      "  warnings.warn('Empty filters detected in mel frequency basis. '\n",
      "/usr/local/lib/python3.7/site-packages/librosa/filters.py:221: UserWarning: Empty filters detected in mel frequency basis. Some channels will produce empty responses. Try increasing your sampling rate (and fmax) or reducing n_mels.\n",
      "  warnings.warn('Empty filters detected in mel frequency basis. '\n",
      "/usr/local/lib/python3.7/site-packages/librosa/filters.py:221: UserWarning: Empty filters detected in mel frequency basis. Some channels will produce empty responses. Try increasing your sampling rate (and fmax) or reducing n_mels.\n",
      "  warnings.warn('Empty filters detected in mel frequency basis. '\n",
      "/usr/local/lib/python3.7/site-packages/librosa/filters.py:221: UserWarning: Empty filters detected in mel frequency basis. Some channels will produce empty responses. Try increasing your sampling rate (and fmax) or reducing n_mels.\n",
      "  warnings.warn('Empty filters detected in mel frequency basis. '\n",
      "/usr/local/lib/python3.7/site-packages/librosa/filters.py:221: UserWarning: Empty filters detected in mel frequency basis. Some channels will produce empty responses. Try increasing your sampling rate (and fmax) or reducing n_mels.\n",
      "  warnings.warn('Empty filters detected in mel frequency basis. '\n"
     ]
    },
    {
     "name": "stdout",
     "output_type": "stream",
     "text": [
      "../AudioData/separatingSimilarSounds/keyboard_typing/1-94231-A-32.wav\n",
      "../AudioData/separatingSimilarSounds/keyboard_typing/2-120333-A-32.wav\n",
      "../AudioData/separatingSimilarSounds/keyboard_typing/1-53501-A-32.wav\n",
      "../AudioData/separatingSimilarSounds/keyboard_typing/3-153444-A-32.wav\n",
      "../AudioData/separatingSimilarSounds/keyboard_typing/5-222894-A-32.wav\n"
     ]
    },
    {
     "name": "stderr",
     "output_type": "stream",
     "text": [
      "/usr/local/lib/python3.7/site-packages/librosa/filters.py:221: UserWarning: Empty filters detected in mel frequency basis. Some channels will produce empty responses. Try increasing your sampling rate (and fmax) or reducing n_mels.\n",
      "  warnings.warn('Empty filters detected in mel frequency basis. '\n",
      "/usr/local/lib/python3.7/site-packages/librosa/filters.py:221: UserWarning: Empty filters detected in mel frequency basis. Some channels will produce empty responses. Try increasing your sampling rate (and fmax) or reducing n_mels.\n",
      "  warnings.warn('Empty filters detected in mel frequency basis. '\n",
      "/usr/local/lib/python3.7/site-packages/librosa/filters.py:221: UserWarning: Empty filters detected in mel frequency basis. Some channels will produce empty responses. Try increasing your sampling rate (and fmax) or reducing n_mels.\n",
      "  warnings.warn('Empty filters detected in mel frequency basis. '\n",
      "/usr/local/lib/python3.7/site-packages/librosa/filters.py:221: UserWarning: Empty filters detected in mel frequency basis. Some channels will produce empty responses. Try increasing your sampling rate (and fmax) or reducing n_mels.\n",
      "  warnings.warn('Empty filters detected in mel frequency basis. '\n",
      "/usr/local/lib/python3.7/site-packages/librosa/filters.py:221: UserWarning: Empty filters detected in mel frequency basis. Some channels will produce empty responses. Try increasing your sampling rate (and fmax) or reducing n_mels.\n",
      "  warnings.warn('Empty filters detected in mel frequency basis. '\n",
      "/usr/local/lib/python3.7/site-packages/librosa/filters.py:221: UserWarning: Empty filters detected in mel frequency basis. Some channels will produce empty responses. Try increasing your sampling rate (and fmax) or reducing n_mels.\n",
      "  warnings.warn('Empty filters detected in mel frequency basis. '\n",
      "/usr/local/lib/python3.7/site-packages/librosa/filters.py:221: UserWarning: Empty filters detected in mel frequency basis. Some channels will produce empty responses. Try increasing your sampling rate (and fmax) or reducing n_mels.\n",
      "  warnings.warn('Empty filters detected in mel frequency basis. '\n"
     ]
    },
    {
     "name": "stdout",
     "output_type": "stream",
     "text": [
      "../AudioData/separatingSimilarSounds/keyboard_typing/1-62594-A-32.wav\n",
      "../AudioData/separatingSimilarSounds/keyboard_typing/2-118459-A-32.wav\n",
      "../AudioData/separatingSimilarSounds/keyboard_typing/1-137-A-32.wav\n",
      "../AudioData/separatingSimilarSounds/keyboard_typing/3-155568-A-32.wav\n",
      "../AudioData/separatingSimilarSounds/keyboard_typing/3-144120-A-32.wav\n",
      "../AudioData/separatingSimilarSounds/keyboard_typing/5-216131-A-32.wav\n",
      "../AudioData/separatingSimilarSounds/keyboard_typing/4-181707-A-32.wav\n",
      "../AudioData/separatingSimilarSounds/keyboard_typing/2-99795-A-32.wav\n",
      "../AudioData/separatingSimilarSounds/keyboard_typing/5-244178-A-32.wav\n",
      "../AudioData/separatingSimilarSounds/keyboard_typing/5-223099-B-32.wav\n",
      "../AudioData/separatingSimilarSounds/keyboard_typing/4-167155-A-32.wav\n",
      "../AudioData/separatingSimilarSounds/keyboard_typing/1-84393-A-32.wav\n",
      "../AudioData/separatingSimilarSounds/keyboard_typing/2-109316-A-32.wav\n",
      "../AudioData/separatingSimilarSounds/keyboard_typing/3-155570-A-32.wav\n",
      "../AudioData/separatingSimilarSounds/keyboard_typing/1-94231-B-32.wav\n",
      "../AudioData/separatingSimilarSounds/keyboard_typing/5-215005-A-32.wav\n",
      "../AudioData/separatingSimilarSounds/keyboard_typing/1-61212-A-32.wav\n",
      "../AudioData/separatingSimilarSounds/keyboard_typing/4-185613-A-32.wav\n",
      "../AudioData/separatingSimilarSounds/keyboard_typing/4-172180-A-32.wav\n",
      "../AudioData/separatingSimilarSounds/keyboard_typing/3-144106-A-32.wav\n",
      "../AudioData/separatingSimilarSounds/keyboard_typing/1-79711-A-32.wav\n",
      "../AudioData/separatingSimilarSounds/keyboard_typing/5-234923-A-32.wav\n",
      "../AudioData/separatingSimilarSounds/keyboard_typing/2-118459-B-32.wav\n",
      "../AudioData/separatingSimilarSounds/keyboard_typing/4-177243-A-32.wav\n",
      "../AudioData/separatingSimilarSounds/keyboard_typing/4-172742-A-32.wav\n",
      "../AudioData/separatingSimilarSounds/keyboard_typing/2-99796-A-32.wav\n",
      "../AudioData/separatingSimilarSounds/keyboard_typing/3-125548-A-32.wav\n",
      "../AudioData/separatingSimilarSounds/keyboard_typing/5-205090-A-32.wav\n",
      "../AudioData/separatingSimilarSounds/keyboard_typing/2-118817-A-32.wav\n",
      "../AudioData/separatingSimilarSounds/keyboard_typing/3-154781-A-32.wav\n",
      "../AudioData/separatingSimilarSounds/keyboard_typing/5-223099-A-32.wav\n",
      "../AudioData/separatingSimilarSounds/keyboard_typing/2-104168-A-32.wav\n",
      "../AudioData/separatingSimilarSounds/keyboard_typing/3-132830-A-32.wav\n",
      "../AudioData/separatingSimilarSounds/keyboard_typing/4-181708-A-32.wav\n",
      "../AudioData/separatingSimilarSounds/keyboard_typing/4-158653-A-32.wav\n",
      "Finished this class. Going to the next\n",
      "Done generating spectra!\n",
      "Notebook Done\n"
     ]
    }
   ],
   "source": [
    "ComputeSpectrograms(SOURCE_FOLDER_TRAIN,OUTPUT_FOLDER_TRAIN)\n",
    "pickle.dump(SpectrumVariables, open(os.path.join(OUTPUT_FOLDER_TRAIN,'Main.SpecVar'), \"wb\" ))\n",
    "print(\"Notebook Done\")"
   ]
  },
  {
   "cell_type": "code",
   "execution_count": 7,
   "metadata": {},
   "outputs": [
    {
     "name": "stdout",
     "output_type": "stream",
     "text": [
      "text here\n"
     ]
    }
   ],
   "source": [
    "print(\"text here\")"
   ]
  },
  {
   "cell_type": "code",
   "execution_count": null,
   "metadata": {},
   "outputs": [],
   "source": []
  }
 ],
 "metadata": {
  "kernelspec": {
   "display_name": "Python 3",
   "language": "python",
   "name": "python3"
  },
  "language_info": {
   "codemirror_mode": {
    "name": "ipython",
    "version": 3
   },
   "file_extension": ".py",
   "mimetype": "text/x-python",
   "name": "python",
   "nbconvert_exporter": "python",
   "pygments_lexer": "ipython3",
   "version": "3.7.4"
  }
 },
 "nbformat": 4,
 "nbformat_minor": 2
}
