{
 "cells": [
  {
   "cell_type": "markdown",
   "metadata": {},
   "source": [
    "## Install Libraries\n",
    "\n",
    "We will install the software libraries necessary for this week's tutorials, and test them to make sure they work.\n",
    "\n",
    "If you have never used a command-line or terminal before, [the linked wiki page will help you](https://github.com/DavidGoedicke/RealtimeAudioClassification/wiki/Command-lines-and-terminals-a-quick-introduction.md)\n",
    "\n",
    "Install [NumPy](https://en.wikipedia.org/wiki/NumPy) (Python support for large, multi-dimensional arrays and matrices ): ```conda install -c conda-forge numpy ```  \n",
    "Install [MatplotLib](https://matplotlib.org) (Python 2D plotting library ): ```conda install -c conda-forge matplotlib ```  \n",
    "Install [NumPy Ringbuffer](https://pypi.org/project/numpy_ringbuffer/) (Ringbuffer Data structure library ) ```pip install numpy_ringbuffer```  \n",
    "Install [pyTorch](https://pytorch.org/get-started/locally/) (Python Machine Learning Library ): ```conda install pytorch torchvision -c pytorch```  \n",
    "Install [opencv2](https://opencv.org) (Computer Vision library) : ```conda install -c conda-forge  opencv=3.4.1```  \n",
    "Install [sklearn](https://scikit-learn.org/stable/) (SciKit Machine Learning library): ```conda install scikit-learn```  \n",
    "Install [librosa](https://librosa.github.io/librosa/) (Music and Audio analysis library ): ```conda install -c conda-forge librosa ```  \n",
    "Install [PyAudio](https://people.csail.mit.edu/hubert/pyaudio/) (Python bindings for PortAudio, the cross-platform audio I/O library ) : ```conda install -c anaconda pyaudio```  \n"
   ]
  },
  {
   "cell_type": "markdown",
   "metadata": {},
   "source": [
    "## Test setup\n",
    "\n",
    "In the code below, we load (\"import\") the libraries that we just installed above, to make sure that Python can find the libraries. \n"
   ]
  },
  {
   "cell_type": "code",
   "execution_count": null,
   "metadata": {},
   "outputs": [],
   "source": [
    "import csv\n",
    "import os\n",
    "import wave\n",
    "import time\n",
    "import multiprocessing\n",
    "from threading import Thread\n",
    "import os\n",
    "print(\"Found all built-in libraries.\")\n",
    "import numpy as np\n",
    "from numpy_ringbuffer import RingBuffer\n",
    "import matplotlib.pyplot as plt\n",
    "print(\"Found all math libraries.\")\n",
    "import pyaudio\n",
    "import librosa\n",
    "print(\"Found all audio libraries.\")\n",
    "import torch\n",
    "from torchvision import datasets, transforms, models\n",
    "from sklearn.metrics import confusion_matrix\n",
    "print(\"Found all machine learning libraries.\")\n",
    "import cv2\n",
    "print(\"Found the computer vision library.\")\n"
   ]
  },
  {
   "cell_type": "markdown",
   "metadata": {},
   "source": [
    "If the above code runs without a problem, all libraries have installed and can be loaded. While it does not gurantee that everything will work, this is a very good sign.\n"
   ]
  },
  {
   "cell_type": "code",
   "execution_count": null,
   "metadata": {},
   "outputs": [],
   "source": []
  }
 ],
 "metadata": {
  "kernelspec": {
   "display_name": "Python3.6 workshop",
   "language": "python",
   "name": "workshop"
  },
  "language_info": {
   "codemirror_mode": {
    "name": "ipython",
    "version": 3
   },
   "file_extension": ".py",
   "mimetype": "text/x-python",
   "name": "python",
   "nbconvert_exporter": "python",
   "pygments_lexer": "ipython3",
   "version": "3.6.8"
  }
 },
 "nbformat": 4,
 "nbformat_minor": 2
}
