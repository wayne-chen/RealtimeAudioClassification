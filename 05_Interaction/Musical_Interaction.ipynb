{
 "cells": [
  {
   "cell_type": "markdown",
   "metadata": {},
   "source": [
    "# Musical Interaction"
   ]
  },
  {
   "cell_type": "code",
   "execution_count": null,
   "metadata": {},
   "outputs": [],
   "source": [
    "!pip install music21\n",
    "!pip install pyknon\n",
    "# Also you need to install MuseScore https://musescore.org"
   ]
  },
  {
   "cell_type": "markdown",
   "metadata": {},
   "source": [
    "## Play sounds\n",
    "### Sound files"
   ]
  },
  {
   "cell_type": "code",
   "execution_count": null,
   "metadata": {},
   "outputs": [],
   "source": [
    "import IPython\n",
    "IPython.display.Audio('OptionA.wav') # load a local WAV file"
   ]
  },
  {
   "cell_type": "markdown",
   "metadata": {},
   "source": [
    "### Midi"
   ]
  },
  {
   "cell_type": "code",
   "execution_count": null,
   "metadata": {},
   "outputs": [],
   "source": [
    "from pyknon.genmidi import Midi\n",
    "from pyknon.music import NoteSeq, Note\n",
    "\n",
    "melody = [9, 9, 9, 7, 11,9 ]\n",
    "\n",
    "def makeMidi(notes, name, filename=\"tune1.midi\"):\n",
    "    notes1 = map(Note, notes)\n",
    "    midi = Midi(1, tempo=90)\n",
    "    midi.seq_notes(notes1, track=0)\n",
    "    midi.write(filename)\n",
    "\n",
    "makeMidi(melody, \"Melody 1\")\n"
   ]
  },
  {
   "cell_type": "code",
   "execution_count": null,
   "metadata": {},
   "outputs": [],
   "source": [
    "from music21 import midi\n",
    "def playMidi(filename):\n",
    "    mf = midi.MidiFile()\n",
    "    mf.open(filename)\n",
    "    mf.read()\n",
    "    mf.close()\n",
    "    s = midi.translate.midiFileToStream(mf)\n",
    "    s.show('midi')\n",
    "    \n",
    "playMidi(\"tune1.midi\")"
   ]
  },
  {
   "cell_type": "code",
   "execution_count": null,
   "metadata": {},
   "outputs": [],
   "source": [
    "from music21 import *\n",
    "\n",
    "converter.parse(\"tune1.midi\").show()"
   ]
  },
  {
   "cell_type": "code",
   "execution_count": null,
   "metadata": {},
   "outputs": [],
   "source": [
    "from music21 import *\n",
    "\n",
    "# requires installation of MuseScore\n",
    "converter.parse(\"tinynotation: 3/4 c4 d8 f g16 a g f#\").show()\n",
    "converter.parse(\"tinynotation: 3/4 c4 d8 f g16 a g f#\").show('text')\n"
   ]
  },
  {
   "cell_type": "code",
   "execution_count": null,
   "metadata": {},
   "outputs": [],
   "source": [
    "from music21 import *\n",
    "\n",
    "environment.set('autoDownload', 'allow')\n",
    "jeanieLightBrownURL = ('https://github.com/cuthbertLab/music21/raw/master/music21/corpus/leadSheet/fosterBrownHair.mxl')\n",
    "c = converter.Converter()\n",
    "c.parseURL(jeanieLightBrownURL)\n",
    "\n",
    "converter.parseURL(jeanieLightBrownURL).show()\n",
    "converter.parseURL(jeanieLightBrownURL).show('midi')"
   ]
  },
  {
   "cell_type": "code",
   "execution_count": null,
   "metadata": {},
   "outputs": [],
   "source": [
    "from music21 import *\n",
    "\n",
    "environment.set('autoDownload', 'allow')\n",
    "jeanieLightBrownURL = ('https://github.com/cuthbertLab/music21/raw/master/music21/corpus/leadSheet/fosterBrownHair.mxl')\n",
    "c = converter.Converter()\n",
    "c.parseURL(jeanieLightBrownURL)\n",
    "\n",
    "converter.parseURL(jeanieLightBrownURL).measures(0,4).show()\n",
    "converter.parseURL(jeanieLightBrownURL).measures(0,4).show('midi')"
   ]
  },
  {
   "cell_type": "markdown",
   "metadata": {},
   "source": [
    "## Intel Emotion Based Music Transformation (in progress)"
   ]
  },
  {
   "cell_type": "code",
   "execution_count": null,
   "metadata": {},
   "outputs": [],
   "source": [
    "# this doesn't work yet. The code depends on docker, need to figure that out.\n",
    "\n",
    "from emotransform import transform\n",
    "\n",
    "transform('input.mid','JOY').show()\n"
   ]
  },
  {
   "cell_type": "code",
   "execution_count": null,
   "metadata": {},
   "outputs": [],
   "source": []
  }
 ],
 "metadata": {
  "kernelspec": {
   "display_name": "Python 3",
   "language": "python",
   "name": "python3"
  },
  "language_info": {
   "codemirror_mode": {
    "name": "ipython",
    "version": 3
   },
   "file_extension": ".py",
   "mimetype": "text/x-python",
   "name": "python",
   "nbconvert_exporter": "python",
   "pygments_lexer": "ipython3",
   "version": "3.7.3"
  }
 },
 "nbformat": 4,
 "nbformat_minor": 2
}
