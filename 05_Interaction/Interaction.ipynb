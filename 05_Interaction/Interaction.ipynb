{
 "cells": [
  {
   "cell_type": "markdown",
   "metadata": {},
   "source": [
    "# Tidbits for interaction"
   ]
  },
  {
   "cell_type": "markdown",
   "metadata": {},
   "source": [
    "The requesite libraries for the code in each cell is imported in the cell so that you can more easily cut and paste the cell into your own code."
   ]
  },
  {
   "cell_type": "markdown",
   "metadata": {},
   "source": [
    "## Text input"
   ]
  },
  {
   "cell_type": "code",
   "execution_count": null,
   "metadata": {
    "scrolled": true
   },
   "outputs": [],
   "source": [
    "import os\n",
    "from ipywidgets import interact, widgets\n",
    "\n",
    "text = widgets.Text(\n",
    "    value='',\n",
    "    placeholder='Type something',\n",
    "    description='Name:',\n",
    "    disabled=False\n",
    ")\n",
    "display(text)\n",
    "\n",
    "def handle_submit(sender):\n",
    "    print ('Hi there, '+text.value+'!')\n",
    "    \n",
    "text.on_submit(handle_submit)"
   ]
  },
  {
   "cell_type": "code",
   "execution_count": null,
   "metadata": {},
   "outputs": [],
   "source": [
    "from ipywidgets import interact, widgets\n",
    "\n",
    "def g(name):\n",
    "    if name:\n",
    "        print ('Hi there, '+name+'!')\n",
    "\n",
    "interact(g, name='')\n"
   ]
  },
  {
   "cell_type": "markdown",
   "metadata": {},
   "source": [
    "## Display images "
   ]
  },
  {
   "cell_type": "code",
   "execution_count": null,
   "metadata": {
    "scrolled": true
   },
   "outputs": [],
   "source": [
    "from IPython.display import Image\n",
    "\n",
    "fdir = 'emojis/'\n",
    "\n",
    "@interact\n",
    "def show_images(file=os.listdir(fdir)):\n",
    "    display(Image(fdir+file))"
   ]
  },
  {
   "cell_type": "code",
   "execution_count": null,
   "metadata": {},
   "outputs": [],
   "source": [
    "from IPython.display import Image\n",
    "display(Image(filename='trashbarrel.png') )\n"
   ]
  },
  {
   "cell_type": "markdown",
   "metadata": {},
   "source": [
    "## Display html/SVG conditional "
   ]
  },
  {
   "cell_type": "code",
   "execution_count": null,
   "metadata": {},
   "outputs": [],
   "source": [
    "from IPython.display import HTML, display\n",
    "import ipywidgets as widgets\n",
    "\n",
    "def f(cat):\n",
    "    if (cat):\n",
    "        html = '<svg height=\"150\" width=\"300\"><rect x=\"100\" y=\"50\" width=\"100\" height=\"100\" stroke=\"green\" stroke-width=\"3\" fill=\"green\" /></svg>'    \n",
    "    else:\n",
    "         html = '<svg height=\"150\" width=\"150\"><polygon points=\"50,5   100,5  125,30  125,80 100,105 50,105  25,80  25, 30\" style=\"stroke:#660000; fill:#cc3333; stroke-width: 3;\"/>'\n",
    "    display(HTML(html))\n",
    "    \n",
    "interact (f, cat=False)\n"
   ]
  },
  {
   "cell_type": "code",
   "execution_count": null,
   "metadata": {},
   "outputs": [],
   "source": [
    "from IPython.display import HTML, display\n",
    "import ipywidgets as widgets\n",
    "\n",
    "def f(sound):\n",
    "    if (sound==1):\n",
    "        html = '<svg height=\"150\" width=\"300\"><rect x=\"100\" y=\"50\" width=\"100\" height=\"100\" stroke=\"green\" stroke-width=\"3\" fill=\"green\" /></svg>'    \n",
    "    else:\n",
    "         html = '<svg height=\"150\" width=\"150\"><polygon points=\"50,5   100,5  125,30  125,80 100,105 50,105  25,80  25, 30\" style=\"stroke:#660000; fill:#cc3333; stroke-width: 3;\"/>'\n",
    "    display(HTML(html))\n",
    "    \n",
    "interact(f, sound=[('cat',0),('dog',1)]);\n"
   ]
  },
  {
   "cell_type": "code",
   "execution_count": null,
   "metadata": {},
   "outputs": [],
   "source": [
    "\n",
    "from IPython.display import HTML, display\n",
    "from ipywidgets import interact, widgets\n",
    "\n",
    "def f(sound):\n",
    "    html = '<svg viewBox=\"0 0 240 80\" xmlns=\"http://www.w3.org/2000/svg\"><style>.small { font: italic 13px sans-serif; }.heavy { font: bold 30px sans-serif; } .Rrrrr { font: italic 40px serif; fill: red; }</style><text x=\"20\" y=\"35\" class=\"small\">I think that</text>is a<text x=\"40\" y=\"35\" class=\"heavy\"></text><text x=\"55\" y=\"55\" class=\"small\">is a</text><text x=\"65\" y=\"55\" class=\"Rrrrr\">'+sound+'!</text></svg>'\n",
    "    display(HTML(html))\n",
    "\n",
    "interact(f, sound=['cat','dog']);\n",
    "\n",
    "\n",
    "\n"
   ]
  },
  {
   "cell_type": "markdown",
   "metadata": {},
   "source": [
    "## Play sounds\n",
    "### Sound files"
   ]
  },
  {
   "cell_type": "code",
   "execution_count": null,
   "metadata": {},
   "outputs": [],
   "source": [
    "import IPython\n",
    "IPython.display.Audio('OptionA.wav') # load a local WAV file"
   ]
  },
  {
   "cell_type": "markdown",
   "metadata": {},
   "source": [
    "## Play Youtube Video"
   ]
  },
  {
   "cell_type": "code",
   "execution_count": null,
   "metadata": {
    "scrolled": true
   },
   "outputs": [],
   "source": [
    "from IPython.display import YouTubeVideo\n",
    "YouTubeVideo('8N_tupPBtWQ')"
   ]
  },
  {
   "cell_type": "markdown",
   "metadata": {},
   "source": [
    "## Text to Speech on MacOS"
   ]
  },
  {
   "cell_type": "code",
   "execution_count": null,
   "metadata": {
    "scrolled": true
   },
   "outputs": [],
   "source": [
    "# This works on Mac OS X\n",
    "import os \n",
    "  \n",
    "mytext=\"guhsundhighd\"\n",
    "#mytext=\"guhzuntite\"\n",
    "  \n",
    "# Playing the converted file \n",
    "os.system(\"say \"+ mytext) "
   ]
  },
  {
   "cell_type": "markdown",
   "metadata": {},
   "source": [
    "## Automatic email sending using python\n",
    "\n",
    "As it says in [this post](https://medium.com/@sudarshaana/sending-mail-from-gmail-with-attachment-in-python-3-5837ce7cc721) you will need to turn on \"less secure\" mode to make this work."
   ]
  },
  {
   "cell_type": "code",
   "execution_count": 14,
   "metadata": {},
   "outputs": [
    {
     "data": {
      "text/plain": [
       "{}"
      ]
     },
     "execution_count": 14,
     "metadata": {},
     "output_type": "execute_result"
    }
   ],
   "source": [
    "import smtplib\n",
    "smtpObj = smtplib.SMTP_SSL(\"smtp.googlemail.com\", 465)\n",
    "smtpObj.ehlo()\n",
    "smtpObj.login(\"youremail@gmail.com\", \"yourpassword\")\n",
    "smtpObj.sendmail(\"sender@gmail.com\", \"recipient@email.com\",\"Subject: I'd like to teach the world to sing.\\n ...in perfect harmony...\")"
   ]
  },
  {
   "cell_type": "code",
   "execution_count": null,
   "metadata": {},
   "outputs": [],
   "source": []
  }
 ],
 "metadata": {
  "kernelspec": {
   "display_name": "Python 3",
   "language": "python",
   "name": "python3"
  },
  "language_info": {
   "codemirror_mode": {
    "name": "ipython",
    "version": 3
   },
   "file_extension": ".py",
   "mimetype": "text/x-python",
   "name": "python",
   "nbconvert_exporter": "python",
   "pygments_lexer": "ipython3",
   "version": "3.7.3"
  }
 },
 "nbformat": 4,
 "nbformat_minor": 2
}
