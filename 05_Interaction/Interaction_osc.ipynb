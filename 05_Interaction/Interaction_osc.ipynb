{
 "cells": [
  {
   "cell_type": "markdown",
   "metadata": {},
   "source": [
    "## Interaction OSC"
   ]
  },
  {
   "cell_type": "code",
   "execution_count": null,
   "metadata": {},
   "outputs": [],
   "source": [
    "! pip install python-osc"
   ]
  },
  {
   "cell_type": "code",
   "execution_count": null,
   "metadata": {},
   "outputs": [],
   "source": [
    "from pythonosc.dispatcher import Dispatcher\n",
    "from typing import List, Any\n",
    "\n",
    "dispatcher = Dispatcher()\n",
    "\n",
    "\n",
    "def set_filter(address: str, *args: List[Any]) -> None:\n",
    "    # We expect two float arguments\n",
    "    if not len(args) == 2 or type(args[0]) is not float or type(args[1]) is not float:\n",
    "        return\n",
    "\n",
    "    # Check that address starts with filter\n",
    "    if not address[:-1] == \"/filter\":  # Cut off the last character\n",
    "        return\n",
    "\n",
    "    value1 = args[0]\n",
    "    value2 = args[1]\n",
    "    filterno = address[-1]\n",
    "    print(f\"Setting filter {filterno} values: {value1}, {value2}\")\n",
    "\n",
    "def count_banana(address: str, *args: List[Any]) -> None:\n",
    "    print (f\"There are {len(args)} bananas:\")\n",
    "    for arg in args:\n",
    "        print(arg)\n",
    "    \n",
    "    \n",
    "    \n",
    "dispatcher.map(\"/filter*\", set_filter)  # Map wildcard address to set_filter function\n",
    "dispatcher.map(\"/banana*\", count_banana)\n",
    "\n",
    "# Set up server and client for testing\n",
    "from pythonosc.osc_server import BlockingOSCUDPServer\n",
    "from pythonosc.udp_client import SimpleUDPClient\n",
    "\n",
    "server = BlockingOSCUDPServer((\"127.0.0.1\", 1336), dispatcher)\n",
    "client = SimpleUDPClient(\"127.0.0.1\", 1336)\n",
    "\n",
    "# Send message and receive exactly one message (blocking)\n",
    "client.send_message(\"/filter1\", [1., 2.])\n",
    "server.handle_request()\n",
    "\n",
    "client.send_message(\"/filter8\", [6., -2.])\n",
    "server.handle_request()"
   ]
  },
  {
   "cell_type": "code",
   "execution_count": null,
   "metadata": {},
   "outputs": [],
   "source": [
    "from IPython.display import HTML, display\n",
    "from ipywidgets import interact, widgets\n",
    "\n",
    "def f(x, y):\n",
    "    client.send_message(\"/filter2\", [x,y])\n",
    "    server.handle_request()\n",
    "\n",
    "interact(f, x=1.0, y=1.0)\n",
    "\n"
   ]
  },
  {
   "cell_type": "code",
   "execution_count": null,
   "metadata": {},
   "outputs": [],
   "source": [
    "client.send_message(\"/banana5\", [6., -2.])\n",
    "server.handle_request()"
   ]
  },
  {
   "cell_type": "code",
   "execution_count": null,
   "metadata": {},
   "outputs": [],
   "source": []
  }
 ],
 "metadata": {
  "kernelspec": {
   "display_name": "Python 3",
   "language": "python",
   "name": "python3"
  },
  "language_info": {
   "codemirror_mode": {
    "name": "ipython",
    "version": 3
   },
   "file_extension": ".py",
   "mimetype": "text/x-python",
   "name": "python",
   "nbconvert_exporter": "python",
   "pygments_lexer": "ipython3",
   "version": "3.7.3"
  }
 },
 "nbformat": 4,
 "nbformat_minor": 2
}
