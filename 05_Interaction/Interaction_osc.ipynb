{
 "cells": [
  {
   "cell_type": "markdown",
   "metadata": {},
   "source": [
    "## Interaction OSC"
   ]
  },
  {
   "cell_type": "code",
   "execution_count": 4,
   "metadata": {},
   "outputs": [
    {
     "name": "stdout",
     "output_type": "stream",
     "text": [
      "Requirement already satisfied: python-osc in /Users/wendyju/anaconda3/lib/python3.7/site-packages (1.7.2)\r\n"
     ]
    }
   ],
   "source": [
    "! pip install python-osc"
   ]
  },
  {
   "cell_type": "code",
   "execution_count": 1,
   "metadata": {},
   "outputs": [
    {
     "name": "stdout",
     "output_type": "stream",
     "text": [
      "Setting filter 1 values: 1.0, 2.0\n",
      "Setting filter 8 values: 6.0, -2.0\n"
     ]
    }
   ],
   "source": [
    "from pythonosc.dispatcher import Dispatcher\n",
    "from typing import List, Any\n",
    "\n",
    "dispatcher = Dispatcher()\n",
    "\n",
    "\n",
    "def set_filter(address: str, *args: List[Any]) -> None:\n",
    "    # We expect two float arguments\n",
    "    if not len(args) == 2 or type(args[0]) is not float or type(args[1]) is not float:\n",
    "        return\n",
    "\n",
    "    # Check that address starts with filter\n",
    "    if not address[:-1] == \"/filter\":  # Cut off the last character\n",
    "        return\n",
    "\n",
    "    value1 = args[0]\n",
    "    value2 = args[1]\n",
    "    filterno = address[-1]\n",
    "    print(f\"Setting filter {filterno} values: {value1}, {value2}\")\n",
    "\n",
    "\n",
    "dispatcher.map(\"/filter*\", set_filter)  # Map wildcard address to set_filter function\n",
    "\n",
    "# Set up server and client for testing\n",
    "from pythonosc.osc_server import BlockingOSCUDPServer\n",
    "from pythonosc.udp_client import SimpleUDPClient\n",
    "\n",
    "server = BlockingOSCUDPServer((\"127.0.0.1\", 1337), dispatcher)\n",
    "client = SimpleUDPClient(\"127.0.0.1\", 1337)\n",
    "\n",
    "# Send message and receive exactly one message (blocking)\n",
    "client.send_message(\"/filter1\", [1., 2.])\n",
    "server.handle_request()\n",
    "\n",
    "client.send_message(\"/filter8\", [6., -2.])\n",
    "server.handle_request()"
   ]
  },
  {
   "cell_type": "code",
   "execution_count": 2,
   "metadata": {},
   "outputs": [
    {
     "name": "stdout",
     "output_type": "stream",
     "text": [
      "Setting filter 2 values: 6.0, -2.0\n"
     ]
    }
   ],
   "source": [
    "client.send_message(\"/filter2\", [6., -2.])\n",
    "server.handle_request()"
   ]
  },
  {
   "cell_type": "code",
   "execution_count": 3,
   "metadata": {},
   "outputs": [],
   "source": [
    "client.send_message(\"/banana5\", [6., -2.])\n",
    "server.handle_request()"
   ]
  },
  {
   "cell_type": "code",
   "execution_count": null,
   "metadata": {},
   "outputs": [],
   "source": []
  }
 ],
 "metadata": {
  "kernelspec": {
   "display_name": "Python 3",
   "language": "python",
   "name": "python3"
  },
  "language_info": {
   "codemirror_mode": {
    "name": "ipython",
    "version": 3
   },
   "file_extension": ".py",
   "mimetype": "text/x-python",
   "name": "python",
   "nbconvert_exporter": "python",
   "pygments_lexer": "ipython3",
   "version": "3.7.3"
  }
 },
 "nbformat": 4,
 "nbformat_minor": 2
}
