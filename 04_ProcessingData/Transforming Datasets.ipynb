{
 "cells": [
  {
   "cell_type": "markdown",
   "metadata": {},
   "source": [
    "## Sorting Urban Sounds"
   ]
  },
  {
   "cell_type": "markdown",
   "metadata": {},
   "source": [
    "The following script is for datasets where there is a csv with file labels. It will look at a data folder and use the .csv file seperate them into the different folders."
   ]
  },
  {
   "cell_type": "markdown",
   "metadata": {},
   "source": [
    "**HOT TIP:**\n",
    "If you write your own code, while testing, instead of calling ``os.rename(inFilePath,outFilePath)`` first print out the path like ``print(inFilePath,outFilePath)`` and compare them by hand. Not only can it be a if the code does not work correctly but if you are not careful and move files into or away from your root directory ``/``, you can mess up your operating system really easily. In other words, make sure your code works befor you start moving around big chunks of files."
   ]
  },
  {
   "cell_type": "code",
   "execution_count": null,
   "metadata": {},
   "outputs": [],
   "source": [
    "SOURCEFOLDER= '../AudioData/urban-sound-classification/train/Train/'\n",
    "CSV = '../AudioData/urban-sound-classification/train/train.csv'\n",
    "'''\n",
    "The Urban-Sounds csv file is slightly differently organized.\n",
    "Each file ID appears in the list and has the actual class written next to it.\n",
    "We can use the class name to create and use the class folder. and move the files to where they need to go. \n",
    "'''\n",
    "\n",
    "with open(CSV, newline='') as csvfile:\n",
    "    readCSV = csv.reader(csvfile, delimiter=',')\n",
    "    for row  in readCSV:\n",
    "        if( row[0]=='ID'):\n",
    "            continue;   \n",
    "        targetFolder = os.path.join(SOURCEFOLDER,row[1]) #row[1] contains the class name \n",
    "        if not os.path.exists(targetFolder): #. checking if the folder exsists\n",
    "            os.makedirs(targetFolder) #if !NOT! then we create a new directory\n",
    "        filename = row[0]+\".wav\"  #Row[0] contains the id. \n",
    "        inFilePath = os.path.join(SOURCEFOLDER,filename) # Creating source path\n",
    "        outFilePath = os.path.join(targetFolder,filename) # Creating target path \n",
    "        if(os.path.isfile(inFilePath) and not os.path.isfile(outFilePath)): # Checking if we are not overwriting something \n",
    "            print(\"Moved file: \"+filename)\n",
    "            os.rename(inFilePath,outFilePath) # Moving the file\n",
    "        else:\n",
    "            print(\"Skipping file: \"+filename+ \" as it already exists\") # if the target file already exsisted or the source was not there\n",
    "       "
   ]
  },
  {
   "cell_type": "markdown",
   "metadata": {},
   "source": [
    "## Extract audio from mp4 video"
   ]
  },
  {
   "cell_type": "markdown",
   "metadata": {},
   "source": [
    "Apparently the files in Audioset are movies instead of audio files. How should we handle these?\n",
    "\n",
    "Install [MoviePy](https://zulko.github.io/moviepy/) : `pip install moviepy` (I could not get the conda install of moviepy to work)\n",
    "\n",
    "Code below includes contributions from @SK:"
   ]
  },
  {
   "cell_type": "code",
   "execution_count": null,
   "metadata": {},
   "outputs": [],
   "source": [
    "import os\n",
    "import moviepy.editor as mp\n",
    "\n",
    "fileDirectory = \"../AudioData/VideoTest/\"\n",
    "files = listdir(fileDirectory)\n",
    "\n",
    "for file in files:\n",
    "    if file.endswith(\".mp4\"):\n",
    "        fileName = splitext(file)\n",
    "        video = mp.VideoFileClip(fileDirectory+file)\n",
    "        audio = video.audio\n",
    "        audio.write_audiofile(fileDirectory+fileName[0]+\".wav\")\n"
   ]
  },
  {
   "cell_type": "code",
   "execution_count": null,
   "metadata": {},
   "outputs": [],
   "source": []
  }
 ],
 "metadata": {
  "kernelspec": {
   "display_name": "Python 3",
   "language": "python",
   "name": "python3"
  },
  "language_info": {
   "codemirror_mode": {
    "name": "ipython",
    "version": 3
   },
   "file_extension": ".py",
   "mimetype": "text/x-python",
   "name": "python",
   "nbconvert_exporter": "python",
   "pygments_lexer": "ipython3",
   "version": "3.7.3"
  }
 },
 "nbformat": 4,
 "nbformat_minor": 2
}
