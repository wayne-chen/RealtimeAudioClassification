{
 "cells": [
  {
   "cell_type": "markdown",
   "metadata": {},
   "source": [
    "# Understanding the MelSpectrogram\n",
    "\n",
    "There are five control parameters that control how the spectrogram is generated. In this notebook we created an interactive interface that allows you to play with the values and explore how they effect the spectrogram.\n",
    "\n",
    "Currently the code visualizes a dog barking sound from the Cats-vs-Dogs data set.  To change the file change the variable `MainFile` to point towards the audio file you want to use.(Tab completion works mostly for folders)"
   ]
  },
  {
   "cell_type": "code",
   "execution_count": 10,
   "metadata": {},
   "outputs": [],
   "source": [
    "from __future__ import print_function\n",
    "\n",
    "%matplotlib inline\n",
    "import cv2\n",
    "import csv\n",
    "import numpy as np\n",
    "import librosa\n",
    "import wave\n",
    "import os\n",
    "import matplotlib.pyplot as plt\n",
    "\n",
    "from ipywidgets import interactive\n",
    "import ipywidgets as widgets\n",
    "\n",
    "from PIL import Image\n",
    "import IPython.display as displayImg\n",
    "\n",
    "import pickle"
   ]
  },
  {
   "cell_type": "code",
   "execution_count": 11,
   "metadata": {},
   "outputs": [],
   "source": [
    "##SpectrographVariables\n",
    "SpectrumVariables={}\n",
    "SpectrumVariables[\"RESOLUTION\"] =0\n",
    "SpectrumVariables[\"SAMPLE_RATE\"]=0\n",
    "SpectrumVariables[\"N_FFT\"]=0\n",
    "SpectrumVariables[\"HOP_LENGTH\"]=0\n",
    "SpectrumVariables[\"FMIN\"]=0\n",
    "SpectrumVariables[\"FMAX\"]=0\n",
    "SpectrumVariables[\"N_MELS\"]=0\n",
    "SpectrumVariables[\"POWER\"]=0"
   ]
  },
  {
   "cell_type": "code",
   "execution_count": 14,
   "metadata": {
    "scrolled": false
   },
   "outputs": [
    {
     "data": {
      "application/vnd.jupyter.widget-view+json": {
       "model_id": "c9b88fd2bc8743e883a8f4493730c9c9",
       "version_major": 2,
       "version_minor": 0
      },
      "text/plain": [
       "interactive(children=(IntSlider(value=32000, description='SAMPLE_RATE', max=48000, min=16000, step=100), IntSl…"
      ]
     },
     "metadata": {},
     "output_type": "display_data"
    }
   ],
   "source": [
    "### Image output resolution\n",
    "RESOLUTION = 224\n",
    "#MainFile=\"../AudioData/Cats-Vs-Dogs/Dogs/365089__justiiiiin__dogs-barking.wav\"\n",
    "#MainFile=\"../AudioData/audio-cats-and-dogs/cats_dogs/train/cat/cat_23.wav\"\n",
    "MainFile=\"../AudioData/Cats-Vs-Dogs/Cats/120017__kklab5050__cat-meow.wav\"\n",
    "\n",
    "def f(SAMPLE_RATE, N_FFT,HOP_LENGTH,FMIN, FMAX,N_MELS,POWER):\n",
    "    \n",
    "    SpectrumVariables[\"RESOLUTION\"] =RESOLUTION\n",
    "    SpectrumVariables[\"SAMPLE_RATE\"]=SAMPLE_RATE\n",
    "    SpectrumVariables[\"N_FFT\"]=N_FFT\n",
    "    SpectrumVariables[\"HOP_LENGTH\"]=HOP_LENGTH\n",
    "    SpectrumVariables[\"FMIN\"]=FMIN\n",
    "    SpectrumVariables[\"FMAX\"]=FMAX\n",
    "    SpectrumVariables[\"N_MELS\"]=N_MELS\n",
    "    SpectrumVariables[\"POWER\"]=POWER\n",
    "   \n",
    "    x ,sample_rate_in = librosa.load(MainFile,mono=True)\n",
    "    audio_data = librosa.resample(x, sample_rate_in, SAMPLE_RATE)\n",
    "    mel_spec_power = librosa.feature.melspectrogram(audio_data, sr=SAMPLE_RATE, n_fft=N_FFT, \n",
    "                                                    hop_length=HOP_LENGTH, \n",
    "                                                    n_mels=N_MELS, power=POWER,\n",
    "                                                   fmin=FMIN,fmax=FMAX)\n",
    "    mel_spec_db = np.float32(librosa.power_to_db(mel_spec_power, ref=np.max))\n",
    "    image = mel_spec_db; # convert to float\n",
    "    image -= image.min() # ensure the minimal value is 0.0\n",
    "    image /= image.max() # maximum value in image is now 1.0\n",
    "    image*=256;\n",
    "    img = image.astype(np.uint8)\n",
    "    print(img.min(),img.max())\n",
    "    colerPic = cv2.applyColorMap(img, cv2.COLORMAP_BONE)\n",
    "    fig, axs = plt.subplots(2,5, figsize=(15, 6), facecolor='w', edgecolor='k')\n",
    "    axs = axs.ravel()    \n",
    "    for i in range(int(np.floor(colerPic.shape[1]/RESOLUTION))):\n",
    "        startx=RESOLUTION*i\n",
    "        stopx=RESOLUTION*(i+1)\n",
    "        OutputImage = cv2.resize(colerPic[:,startx:stopx,:],(RESOLUTION,RESOLUTION))\n",
    "        axs[i].imshow(OutputImage)\n",
    "\n",
    "interactive_plot = interactive(f, {\"manual\":True},SAMPLE_RATE=(16000, 48000,100), N_FFT=(128, 2048*2, 64),HOP_LENGTH=(128, 512, 16),FMIN=(0,300,5),FMAX=(300,40000,10),N_MELS=(10,300,10),POWER=(0.1,3))\n",
    "interactive_plot"
   ]
  },
  {
   "cell_type": "markdown",
   "metadata": {},
   "source": [
    "## Saving new settings\n",
    "\n",
    "Normally you can copy and paste the new values by hand. For this particular workshop we create a dictionary call ``SpectographVariables`` that contains all relevant information. You can load in this dictionary when you generate the spectrums or when you run the inference from your microphone. Run the box bellow to save the variables to a file. Rememeber, the file name as you will need it for the generating the spectrograms for all audio files. \n",
    "\n",
    "### Caution!  files will be overwritten without beeing asked."
   ]
  },
  {
   "cell_type": "code",
   "execution_count": 18,
   "metadata": {},
   "outputs": [
    {
     "name": "stdout",
     "output_type": "stream",
     "text": [
      "Type in your filename here => Standard\n",
      "It will end up in the same folder as this notebook.\n",
      "File created as: Standard.SpecVar\n"
     ]
    }
   ],
   "source": [
    "FileName =input(\"Type in your filename here => \")\n",
    "print(\"It will end up in the same folder as this notebook.\")\n",
    "pickle.dump(SpectrumVariables, open( FileName+'.SpecVar', \"wb\" ))\n",
    "print(\"File created as: \"+FileName+\".SpecVar\")"
   ]
  },
  {
   "cell_type": "code",
   "execution_count": null,
   "metadata": {},
   "outputs": [],
   "source": []
  }
 ],
 "metadata": {
  "kernelspec": {
   "display_name": "Python3.6 workshop",
   "language": "python",
   "name": "workshop"
  },
  "language_info": {
   "codemirror_mode": {
    "name": "ipython",
    "version": 3
   },
   "file_extension": ".py",
   "mimetype": "text/x-python",
   "name": "python",
   "nbconvert_exporter": "python",
   "pygments_lexer": "ipython3",
   "version": "3.6.8"
  }
 },
 "nbformat": 4,
 "nbformat_minor": 2
}
