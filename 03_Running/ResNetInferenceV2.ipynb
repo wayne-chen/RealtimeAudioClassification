{
 "cells": [
  {
   "cell_type": "markdown",
   "metadata": {},
   "source": [
    "# Load library"
   ]
  },
  {
   "cell_type": "code",
   "execution_count": 43,
   "metadata": {},
   "outputs": [],
   "source": [
    "from importlib import reload\n",
    "import RunningResNetLibrary as RTA\n",
    "from IPython.display import clear_output, display\n",
    "import os\n",
    "import subprocess"
   ]
  },
  {
   "cell_type": "markdown",
   "metadata": {},
   "source": [
    "# Run Program"
   ]
  },
  {
   "cell_type": "markdown",
   "metadata": {},
   "source": [
    "This involves creating an audio buffer that we continually update with information from the microphone, then creating an image and running it through the neural net. This happens as fast as possible over and over again."
   ]
  },
  {
   "cell_type": "code",
   "execution_count": null,
   "metadata": {},
   "outputs": [],
   "source": []
  },
  {
   "cell_type": "code",
   "execution_count": 118,
   "metadata": {},
   "outputs": [],
   "source": [
    "def DoStuff(Input,Probablity):\n",
    "    clear_output(wait=True)\n",
    "    print(Input,Probablity)\n",
    "    return;\n"
   ]
  },
  {
   "cell_type": "code",
   "execution_count": 119,
   "metadata": {},
   "outputs": [],
   "source": [
    "def FullOut(predicted,prob,classes):\n",
    "    clear_output(wait=True)\n",
    "    print(classes[predicted[0,0]], prob[0,0])"
   ]
  },
  {
   "cell_type": "code",
   "execution_count": 120,
   "metadata": {},
   "outputs": [
    {
     "name": "stdout",
     "output_type": "stream",
     "text": [
      "street_music tensor(0.8980, grad_fn=<SelectBackward>)\n",
      "Stopping!\n",
      "Stopped and Done!\n"
     ]
    }
   ],
   "source": [
    "RTA.RunTheSystem(TargetTime=5,ModelPath=\"../models/UrbanResNet.pth\",CallBackFunction=DoStuff,CallBack2=FullOut)"
   ]
  },
  {
   "cell_type": "code",
   "execution_count": 104,
   "metadata": {},
   "outputs": [
    {
     "data": {
      "text/plain": [
       "<module 'RunningResNetLibrary' from '/Users/d.goedicke/Desktop/CoctailParty/RealtimeAudioClassification/03_Running/RunningResNetLibrary.py'>"
      ]
     },
     "execution_count": 104,
     "metadata": {},
     "output_type": "execute_result"
    }
   ],
   "source": [
    "reload(RTA)"
   ]
  },
  {
   "cell_type": "code",
   "execution_count": null,
   "metadata": {},
   "outputs": [],
   "source": []
  }
 ],
 "metadata": {
  "kernelspec": {
   "display_name": "Python3.7 (ImageCalc)",
   "language": "python",
   "name": "imagecalc"
  },
  "language_info": {
   "codemirror_mode": {
    "name": "ipython",
    "version": 3
   },
   "file_extension": ".py",
   "mimetype": "text/x-python",
   "name": "python",
   "nbconvert_exporter": "python",
   "pygments_lexer": "ipython3",
   "version": "3.7.3"
  }
 },
 "nbformat": 4,
 "nbformat_minor": 2
}
